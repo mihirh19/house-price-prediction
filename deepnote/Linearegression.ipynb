{
  "cells": [
    {
      "cell_type": "code",
      "source": "import pandas as pd\nimport numpy as np\nimport matplotlib.pyplot as plt\nimport seaborn as sns ",
      "metadata": {
        "source_hash": null,
        "execution_start": 1702999606848,
        "execution_millis": 4861,
        "deepnote_to_be_reexecuted": false,
        "cell_id": "fa1a55ee531d4d55b62384aedbc3dc13",
        "deepnote_cell_type": "code"
      },
      "outputs": [],
      "execution_count": null,
      "block_group": "fa1a55ee531d4d55b62384aedbc3dc13"
    },
    {
      "cell_type": "code",
      "source": "var_x = np.array([1.1,1.3,1.5,2.0,2.2,2.9,3.0,3.2,3.2,3.7,3.9,4.0,4.0,4.1,4.5,4.9,5.1,5.3,5.9,6.0,6.1,7.9,8.2,9.0,9.5,9.6,10.3,10.5,6.8,7])\nvar_y= np.array([39343, 46205,37731,43535,39821,56642,60150,54445,64445,57189,63218,55794,56957,57081,61111,67938,73504,79123,83088,81363,93940,91738,98217,101302,113812,109431,105582,116969,126359,122391])",
      "metadata": {
        "source_hash": null,
        "execution_start": 1702999611720,
        "execution_millis": 20,
        "deepnote_to_be_reexecuted": false,
        "cell_id": "8cc2cbf80a844fd88ae0402d67a9bbed",
        "deepnote_cell_type": "code"
      },
      "outputs": [],
      "execution_count": null,
      "block_group": "4cf85ae2823a4d43a3a7f2df43bd8293"
    },
    {
      "cell_type": "code",
      "source": "X = var_x.reshape(-1,1)\nY = var_y",
      "metadata": {
        "source_hash": null,
        "execution_start": 1702999611741,
        "execution_millis": 10,
        "deepnote_to_be_reexecuted": false,
        "cell_id": "2ac3ddb7f18e41619534985d89e825c6",
        "deepnote_cell_type": "code"
      },
      "outputs": [],
      "execution_count": null,
      "block_group": "d543756e4c4e4267b81732c41316f2a4"
    },
    {
      "cell_type": "code",
      "source": "len(var_x) == len(var_y)\n",
      "metadata": {
        "source_hash": null,
        "execution_start": 1702999611759,
        "execution_millis": 9,
        "deepnote_to_be_reexecuted": false,
        "cell_id": "4346ab0d82754ef6a3e83ec78f156cd6",
        "deepnote_cell_type": "code"
      },
      "outputs": [
        {
          "output_type": "execute_result",
          "execution_count": 4,
          "data": {
            "text/plain": "True"
          },
          "metadata": {}
        }
      ],
      "execution_count": null,
      "block_group": "56e65481d66c42c48bae36cfd7349464"
    },
    {
      "cell_type": "code",
      "source": "plt.scatter(var_x, var_y)",
      "metadata": {
        "source_hash": null,
        "execution_start": 1702999611778,
        "execution_millis": 140,
        "deepnote_to_be_reexecuted": false,
        "cell_id": "25bc9be012ef4d719e5cfd750fd6c6d9",
        "deepnote_cell_type": "code"
      },
      "outputs": [
        {
          "output_type": "execute_result",
          "execution_count": 5,
          "data": {
            "text/plain": "<matplotlib.collections.PathCollection at 0x7f1ce3f71fa0>"
          },
          "metadata": {}
        },
        {
          "data": {
            "text/plain": "<Figure size 640x480 with 1 Axes>",
            "image/png": "[encoded data removed]"
          },
          "metadata": {
            "image/png": {
              "width": 578,
              "height": 413
            }
          },
          "output_type": "display_data"
        }
      ],
      "execution_count": null,
      "block_group": "7981303c773e47059578891bf781755d"
    },
    {
      "cell_type": "code",
      "source": "df = pd.DataFrame({'Experience' : var_x, 'Salary':var_y})",
      "metadata": {
        "source_hash": null,
        "execution_start": 1702999612651,
        "execution_millis": 12,
        "deepnote_to_be_reexecuted": false,
        "cell_id": "1df0afdba8494d7a8c206ab63f8f376f",
        "deepnote_cell_type": "code"
      },
      "outputs": [],
      "execution_count": null,
      "block_group": "2f5f7144811549e8a6df25ead2ab0c6a"
    },
    {
      "cell_type": "code",
      "source": "df.head()",
      "metadata": {
        "source_hash": null,
        "execution_start": 1702999612744,
        "execution_millis": 122,
        "deepnote_to_be_reexecuted": false,
        "cell_id": "e87af718206746999f3d02a27b2e07f8",
        "deepnote_cell_type": "code"
      },
      "outputs": [
        {
          "output_type": "execute_result",
          "execution_count": 7,
          "data": {
            "application/vnd.deepnote.dataframe.v3+json": {
              "column_count": 2,
              "row_count": 5,
              "columns": [
                {
                  "name": "Experience",
                  "dtype": "float64",
                  "stats": {
                    "unique_count": 5,
                    "nan_count": 0,
                    "min": "1.1",
                    "max": "2.2",
                    "histogram": [
                      {
                        "bin_start": 1.1,
                        "bin_end": 1.2100000000000002,
                        "count": 1
                      },
                      {
                        "bin_start": 1.2100000000000002,
                        "bin_end": 1.32,
                        "count": 1
                      },
                      {
                        "bin_start": 1.32,
                        "bin_end": 1.4300000000000002,
                        "count": 0
                      },
                      {
                        "bin_start": 1.4300000000000002,
                        "bin_end": 1.54,
                        "count": 1
                      },
                      {
                        "bin_start": 1.54,
                        "bin_end": 1.6500000000000001,
                        "count": 0
                      },
                      {
                        "bin_start": 1.6500000000000001,
                        "bin_end": 1.7600000000000002,
                        "count": 0
                      },
                      {
                        "bin_start": 1.7600000000000002,
                        "bin_end": 1.87,
                        "count": 0
                      },
                      {
                        "bin_start": 1.87,
                        "bin_end": 1.9800000000000002,
                        "count": 0
                      },
                      {
                        "bin_start": 1.9800000000000002,
                        "bin_end": 2.0900000000000003,
                        "count": 1
                      },
                      {
                        "bin_start": 2.0900000000000003,
                        "bin_end": 2.2,
                        "count": 1
                      }
                    ]
                  }
                },
                {
                  "name": "Salary",
                  "dtype": "int64",
                  "stats": {
                    "unique_count": 5,
                    "nan_count": 0,
                    "min": "37731",
                    "max": "46205",
                    "histogram": [
                      {
                        "bin_start": 37731,
                        "bin_end": 38578.4,
                        "count": 1
                      },
                      {
                        "bin_start": 38578.4,
                        "bin_end": 39425.8,
                        "count": 1
                      },
                      {
                        "bin_start": 39425.8,
                        "bin_end": 40273.2,
                        "count": 1
                      },
                      {
                        "bin_start": 40273.2,
                        "bin_end": 41120.6,
                        "count": 0
                      },
                      {
                        "bin_start": 41120.6,
                        "bin_end": 41968,
                        "count": 0
                      },
                      {
                        "bin_start": 41968,
                        "bin_end": 42815.4,
                        "count": 0
                      },
                      {
                        "bin_start": 42815.4,
                        "bin_end": 43662.8,
                        "count": 1
                      },
                      {
                        "bin_start": 43662.8,
                        "bin_end": 44510.2,
                        "count": 0
                      },
                      {
                        "bin_start": 44510.2,
                        "bin_end": 45357.6,
                        "count": 0
                      },
                      {
                        "bin_start": 45357.6,
                        "bin_end": 46205,
                        "count": 1
                      }
                    ]
                  }
                },
                {
                  "name": "_deepnote_index_column",
                  "dtype": "int64"
                }
              ],
              "rows": [
                {
                  "Experience": 1.1,
                  "Salary": 39343,
                  "_deepnote_index_column": 0
                },
                {
                  "Experience": 1.3,
                  "Salary": 46205,
                  "_deepnote_index_column": 1
                },
                {
                  "Experience": 1.5,
                  "Salary": 37731,
                  "_deepnote_index_column": 2
                },
                {
                  "Experience": 2,
                  "Salary": 43535,
                  "_deepnote_index_column": 3
                },
                {
                  "Experience": 2.2,
                  "Salary": 39821,
                  "_deepnote_index_column": 4
                }
              ]
            },
            "text/plain": "   Experience  Salary\n0         1.1   39343\n1         1.3   46205\n2         1.5   37731\n3         2.0   43535\n4         2.2   39821",
            "text/html": "<div>\n<style scoped>\n    .dataframe tbody tr th:only-of-type {\n        vertical-align: middle;\n    }\n\n    .dataframe tbody tr th {\n        vertical-align: top;\n    }\n\n    .dataframe thead th {\n        text-align: right;\n    }\n</style>\n<table border=\"1\" class=\"dataframe\">\n  <thead>\n    <tr style=\"text-align: right;\">\n      <th></th>\n      <th>Experience</th>\n      <th>Salary</th>\n    </tr>\n  </thead>\n  <tbody>\n    <tr>\n      <th>0</th>\n      <td>1.1</td>\n      <td>39343</td>\n    </tr>\n    <tr>\n      <th>1</th>\n      <td>1.3</td>\n      <td>46205</td>\n    </tr>\n    <tr>\n      <th>2</th>\n      <td>1.5</td>\n      <td>37731</td>\n    </tr>\n    <tr>\n      <th>3</th>\n      <td>2.0</td>\n      <td>43535</td>\n    </tr>\n    <tr>\n      <th>4</th>\n      <td>2.2</td>\n      <td>39821</td>\n    </tr>\n  </tbody>\n</table>\n</div>"
          },
          "metadata": {}
        }
      ],
      "execution_count": null,
      "block_group": "e9e6e64d65cf4dfcbef3a1407b4bd878"
    },
    {
      "cell_type": "code",
      "source": "df.info()",
      "metadata": {
        "source_hash": null,
        "execution_start": 1702999612936,
        "execution_millis": 8,
        "deepnote_to_be_reexecuted": false,
        "cell_id": "def0625cb56a4243b1390faa5f719279",
        "deepnote_cell_type": "code"
      },
      "outputs": [
        {
          "name": "stdout",
          "text": "<class 'pandas.core.frame.DataFrame'>\nRangeIndex: 30 entries, 0 to 29\nData columns (total 2 columns):\n #   Column      Non-Null Count  Dtype  \n---  ------      --------------  -----  \n 0   Experience  30 non-null     float64\n 1   Salary      30 non-null     int64  \ndtypes: float64(1), int64(1)\nmemory usage: 608.0 bytes\n",
          "output_type": "stream"
        }
      ],
      "execution_count": null,
      "block_group": "fba8ccf953e74c64a09b9264be09bc0f"
    },
    {
      "cell_type": "code",
      "source": "X = df.Experience.values.reshape(-1,1)\nY = df.Salary.values",
      "metadata": {
        "source_hash": null,
        "execution_start": 1702999612937,
        "execution_millis": 11,
        "deepnote_to_be_reexecuted": false,
        "cell_id": "a3b4a302a7714ffca510c671e47d00f6",
        "deepnote_cell_type": "code"
      },
      "outputs": [],
      "execution_count": null,
      "block_group": "d0eb813e57fd42c9857014b9867b54a1"
    },
    {
      "cell_type": "code",
      "source": "X",
      "metadata": {
        "source_hash": null,
        "execution_start": 1702999613032,
        "execution_millis": 91,
        "deepnote_to_be_reexecuted": false,
        "cell_id": "0233fd59c9c54a409526db285ddb83c9",
        "deepnote_cell_type": "code"
      },
      "outputs": [
        {
          "output_type": "execute_result",
          "execution_count": 10,
          "data": {
            "text/plain": "array([[ 1.1],\n       [ 1.3],\n       [ 1.5],\n       [ 2. ],\n       [ 2.2],\n       [ 2.9],\n       [ 3. ],\n       [ 3.2],\n       [ 3.2],\n       [ 3.7],\n       [ 3.9],\n       [ 4. ],\n       [ 4. ],\n       [ 4.1],\n       [ 4.5],\n       [ 4.9],\n       [ 5.1],\n       [ 5.3],\n       [ 5.9],\n       [ 6. ],\n       [ 6.1],\n       [ 7.9],\n       [ 8.2],\n       [ 9. ],\n       [ 9.5],\n       [ 9.6],\n       [10.3],\n       [10.5],\n       [ 6.8],\n       [ 7. ]])"
          },
          "metadata": {}
        }
      ],
      "execution_count": null,
      "block_group": "7c319b0927be42c2a98eb46cd4dd9bf9"
    },
    {
      "cell_type": "code",
      "source": "from sklearn.model_selection import train_test_split",
      "metadata": {
        "source_hash": null,
        "execution_start": 1702999613034,
        "execution_millis": 446,
        "deepnote_to_be_reexecuted": false,
        "cell_id": "717efdec4a4b4e07861b73d066c69e5c",
        "deepnote_cell_type": "code"
      },
      "outputs": [],
      "execution_count": null,
      "block_group": "18492042c4ae47e7bc5744fb18b64a8f"
    },
    {
      "cell_type": "code",
      "source": "X_train, X_test, y_train, y_test = train_test_split(X,Y, test_size=0.3, random_state=10)",
      "metadata": {
        "source_hash": null,
        "execution_start": 1702999613493,
        "execution_millis": 5,
        "deepnote_to_be_reexecuted": false,
        "cell_id": "ac9fcdb410804829a27707fd4763d77a",
        "deepnote_cell_type": "code"
      },
      "outputs": [],
      "execution_count": null,
      "block_group": "f57deb09571448108610e960633abc91"
    },
    {
      "cell_type": "code",
      "source": "X_train",
      "metadata": {
        "source_hash": null,
        "execution_start": 1702999613510,
        "execution_millis": 8,
        "deepnote_to_be_reexecuted": false,
        "cell_id": "dda28420253d4f49a3ad17c455be8cde",
        "deepnote_cell_type": "code"
      },
      "outputs": [
        {
          "output_type": "execute_result",
          "execution_count": 13,
          "data": {
            "text/plain": "array([[ 1.3],\n       [ 6. ],\n       [ 4.5],\n       [ 5.9],\n       [ 3. ],\n       [ 4. ],\n       [ 9. ],\n       [ 9.5],\n       [ 6.8],\n       [ 8.2],\n       [ 3.9],\n       [10.3],\n       [ 7. ],\n       [ 3.2],\n       [ 9.6],\n       [ 5.1],\n       [ 5.3],\n       [ 1.1],\n       [ 4.9],\n       [ 2.2],\n       [ 3.7]])"
          },
          "metadata": {}
        }
      ],
      "execution_count": null,
      "block_group": "9172eaa3f1fd4d83a82a824f1a0dab97"
    },
    {
      "cell_type": "code",
      "source": "from sklearn.linear_model import LinearRegression",
      "metadata": {
        "source_hash": null,
        "execution_start": 1702999613572,
        "execution_millis": 178,
        "deepnote_to_be_reexecuted": false,
        "cell_id": "c067d92cb27144ffb365868f4374f102",
        "deepnote_cell_type": "code"
      },
      "outputs": [],
      "execution_count": null,
      "block_group": "7c12a0e260784d1587ca56bda50a42d5"
    },
    {
      "cell_type": "code",
      "source": "model = LinearRegression()",
      "metadata": {
        "source_hash": null,
        "execution_start": 1702999613772,
        "execution_millis": 11,
        "deepnote_to_be_reexecuted": false,
        "cell_id": "dacb487f01574279b5867cb9fb6fdc59",
        "deepnote_cell_type": "code"
      },
      "outputs": [],
      "execution_count": null,
      "block_group": "225131b42c974d52a859bb9276baac9c"
    },
    {
      "cell_type": "code",
      "source": "model.fit(X_train, y_train)",
      "metadata": {
        "source_hash": null,
        "execution_start": 1702999613832,
        "execution_millis": 10,
        "deepnote_to_be_reexecuted": false,
        "cell_id": "3c6d4e53590d4fb7a48751669938b9f3",
        "deepnote_cell_type": "code"
      },
      "outputs": [
        {
          "output_type": "execute_result",
          "execution_count": 16,
          "data": {
            "text/plain": "LinearRegression()",
            "text/html": "<style>#sk-container-id-1 {color: black;background-color: white;}#sk-container-id-1 pre{padding: 0;}#sk-container-id-1 div.sk-toggleable {background-color: white;}#sk-container-id-1 label.sk-toggleable__label {cursor: pointer;display: block;width: 100%;margin-bottom: 0;padding: 0.3em;box-sizing: border-box;text-align: center;}#sk-container-id-1 label.sk-toggleable__label-arrow:before {content: \"▸\";float: left;margin-right: 0.25em;color: #696969;}#sk-container-id-1 label.sk-toggleable__label-arrow:hover:before {color: black;}#sk-container-id-1 div.sk-estimator:hover label.sk-toggleable__label-arrow:before {color: black;}#sk-container-id-1 div.sk-toggleable__content {max-height: 0;max-width: 0;overflow: hidden;text-align: left;background-color: #f0f8ff;}#sk-container-id-1 div.sk-toggleable__content pre {margin: 0.2em;color: black;border-radius: 0.25em;background-color: #f0f8ff;}#sk-container-id-1 input.sk-toggleable__control:checked~div.sk-toggleable__content {max-height: 200px;max-width: 100%;overflow: auto;}#sk-container-id-1 input.sk-toggleable__control:checked~label.sk-toggleable__label-arrow:before {content: \"▾\";}#sk-container-id-1 div.sk-estimator input.sk-toggleable__control:checked~label.sk-toggleable__label {background-color: #d4ebff;}#sk-container-id-1 div.sk-label input.sk-toggleable__control:checked~label.sk-toggleable__label {background-color: #d4ebff;}#sk-container-id-1 input.sk-hidden--visually {border: 0;clip: rect(1px 1px 1px 1px);clip: rect(1px, 1px, 1px, 1px);height: 1px;margin: -1px;overflow: hidden;padding: 0;position: absolute;width: 1px;}#sk-container-id-1 div.sk-estimator {font-family: monospace;background-color: #f0f8ff;border: 1px dotted black;border-radius: 0.25em;box-sizing: border-box;margin-bottom: 0.5em;}#sk-container-id-1 div.sk-estimator:hover {background-color: #d4ebff;}#sk-container-id-1 div.sk-parallel-item::after {content: \"\";width: 100%;border-bottom: 1px solid gray;flex-grow: 1;}#sk-container-id-1 div.sk-label:hover label.sk-toggleable__label {background-color: #d4ebff;}#sk-container-id-1 div.sk-serial::before {content: \"\";position: absolute;border-left: 1px solid gray;box-sizing: border-box;top: 0;bottom: 0;left: 50%;z-index: 0;}#sk-container-id-1 div.sk-serial {display: flex;flex-direction: column;align-items: center;background-color: white;padding-right: 0.2em;padding-left: 0.2em;position: relative;}#sk-container-id-1 div.sk-item {position: relative;z-index: 1;}#sk-container-id-1 div.sk-parallel {display: flex;align-items: stretch;justify-content: center;background-color: white;position: relative;}#sk-container-id-1 div.sk-item::before, #sk-container-id-1 div.sk-parallel-item::before {content: \"\";position: absolute;border-left: 1px solid gray;box-sizing: border-box;top: 0;bottom: 0;left: 50%;z-index: -1;}#sk-container-id-1 div.sk-parallel-item {display: flex;flex-direction: column;z-index: 1;position: relative;background-color: white;}#sk-container-id-1 div.sk-parallel-item:first-child::after {align-self: flex-end;width: 50%;}#sk-container-id-1 div.sk-parallel-item:last-child::after {align-self: flex-start;width: 50%;}#sk-container-id-1 div.sk-parallel-item:only-child::after {width: 0;}#sk-container-id-1 div.sk-dashed-wrapped {border: 1px dashed gray;margin: 0 0.4em 0.5em 0.4em;box-sizing: border-box;padding-bottom: 0.4em;background-color: white;}#sk-container-id-1 div.sk-label label {font-family: monospace;font-weight: bold;display: inline-block;line-height: 1.2em;}#sk-container-id-1 div.sk-label-container {text-align: center;}#sk-container-id-1 div.sk-container {/* jupyter's `normalize.less` sets `[hidden] { display: none; }` but bootstrap.min.css set `[hidden] { display: none !important; }` so we also need the `!important` here to be able to override the default hidden behavior on the sphinx rendered scikit-learn.org. See: https://github.com/scikit-learn/scikit-learn/issues/21755 */display: inline-block !important;position: relative;}#sk-container-id-1 div.sk-text-repr-fallback {display: none;}</style><div id=\"sk-container-id-1\" class=\"sk-top-container\"><div class=\"sk-text-repr-fallback\"><pre>LinearRegression()</pre><b>In a Jupyter environment, please rerun this cell to show the HTML representation or trust the notebook. <br />On GitHub, the HTML representation is unable to render, please try loading this page with nbviewer.org.</b></div><div class=\"sk-container\" hidden><div class=\"sk-item\"><div class=\"sk-estimator sk-toggleable\"><input class=\"sk-toggleable__control sk-hidden--visually\" id=\"sk-estimator-id-1\" type=\"checkbox\" checked><label for=\"sk-estimator-id-1\" class=\"sk-toggleable__label sk-toggleable__label-arrow\">LinearRegression</label><div class=\"sk-toggleable__content\"><pre>LinearRegression()</pre></div></div></div></div></div>"
          },
          "metadata": {}
        }
      ],
      "execution_count": null,
      "block_group": "83e9c27e7ca943cfb1b3a10dac683c25"
    },
    {
      "cell_type": "code",
      "source": "y_test",
      "metadata": {
        "source_hash": null,
        "execution_start": 1702999613833,
        "execution_millis": 8,
        "deepnote_to_be_reexecuted": false,
        "cell_id": "46b709a250004d8086259d38a9c8ae81",
        "deepnote_cell_type": "code"
      },
      "outputs": [
        {
          "output_type": "execute_result",
          "execution_count": 17,
          "data": {
            "text/plain": "array([ 93940,  54445,  56642,  37731,  43535,  91738,  57081, 116969,\n        56957])"
          },
          "metadata": {}
        }
      ],
      "execution_count": null,
      "block_group": "e5a90975683244409246a5acd04329a2"
    },
    {
      "cell_type": "code",
      "source": "y_pred = model.predict(X_test)",
      "metadata": {
        "source_hash": null,
        "execution_start": 1702999613861,
        "execution_millis": 16,
        "deepnote_to_be_reexecuted": false,
        "cell_id": "c46fd59a4f19450ca664061e12e44f1d",
        "deepnote_cell_type": "code"
      },
      "outputs": [],
      "execution_count": null,
      "block_group": "d32a0f7156c94c8e87402dcfcfaa6136"
    },
    {
      "cell_type": "code",
      "source": "from sklearn.metrics import mean_squared_error",
      "metadata": {
        "source_hash": null,
        "execution_start": 1702999613864,
        "execution_millis": 12,
        "deepnote_to_be_reexecuted": false,
        "cell_id": "100355ec5d08491e9ee81daabf8fdba8",
        "deepnote_cell_type": "code"
      },
      "outputs": [],
      "execution_count": null,
      "block_group": "2b702eeffb744cc6871592901c5d210f"
    },
    {
      "cell_type": "code",
      "source": "mean_squared_error(y_test, y_pred)",
      "metadata": {
        "source_hash": null,
        "execution_start": 1702999613916,
        "execution_millis": 11,
        "deepnote_to_be_reexecuted": false,
        "cell_id": "0876220937c54969b5268058b87de656",
        "deepnote_cell_type": "code"
      },
      "outputs": [
        {
          "output_type": "execute_result",
          "execution_count": 20,
          "data": {
            "text/plain": "49912200.62158126"
          },
          "metadata": {}
        }
      ],
      "execution_count": null,
      "block_group": "63c962b642a54791bb95bcb784a4c952"
    },
    {
      "cell_type": "code",
      "source": "model.score(X_test, y_test)",
      "metadata": {
        "source_hash": null,
        "execution_start": 1702999613917,
        "execution_millis": 12,
        "deepnote_to_be_reexecuted": false,
        "cell_id": "e079428aadb9498a989128107e7cdf69",
        "deepnote_cell_type": "code"
      },
      "outputs": [
        {
          "output_type": "execute_result",
          "execution_count": 21,
          "data": {
            "text/plain": "0.9212192854840143"
          },
          "metadata": {}
        }
      ],
      "execution_count": null,
      "block_group": "c2478ae97bc64b5e9633e823d8847035"
    },
    {
      "cell_type": "code",
      "source": "from sklearn.metrics import r2_score",
      "metadata": {
        "source_hash": null,
        "execution_start": 1702999613992,
        "execution_millis": 11,
        "deepnote_to_be_reexecuted": false,
        "cell_id": "99e6fa9bc5144d3ea1043e82d5beec6c",
        "deepnote_cell_type": "code"
      },
      "outputs": [],
      "execution_count": null,
      "block_group": "77f2cd37b3ae4df4bd776f9030d5f74e"
    },
    {
      "cell_type": "code",
      "source": "r2_score(y_test, y_pred)",
      "metadata": {
        "source_hash": null,
        "execution_start": 1702999613993,
        "execution_millis": 29,
        "deepnote_to_be_reexecuted": false,
        "cell_id": "7df56b7689294b2fa23b16bd7a87dd2d",
        "deepnote_cell_type": "code"
      },
      "outputs": [
        {
          "output_type": "execute_result",
          "execution_count": 23,
          "data": {
            "text/plain": "0.9212192854840143"
          },
          "metadata": {}
        }
      ],
      "execution_count": null,
      "block_group": "445959d12be14c7186c47d45bed9c7e4"
    },
    {
      "cell_type": "code",
      "source": "model.predict([[9.5]])",
      "metadata": {
        "source_hash": null,
        "execution_start": 1702999614060,
        "execution_millis": 13,
        "deepnote_to_be_reexecuted": false,
        "cell_id": "e6b41a29b786422daa12b15bc81cfe22",
        "deepnote_cell_type": "code"
      },
      "outputs": [
        {
          "output_type": "execute_result",
          "execution_count": 24,
          "data": {
            "text/plain": "array([113885.30712882])"
          },
          "metadata": {}
        }
      ],
      "execution_count": null,
      "block_group": "1d7f3d31838e4028843bf115fc4dc183"
    },
    {
      "cell_type": "markdown",
      "source": "<a style='text-decoration:none;line-height:16px;display:flex;color:#5B5B62;padding:10px;justify-content:end;' href='https://deepnote.com?utm_source=created-in-deepnote-cell&projectId=edcc1cc3-205b-4e9d-9a71-dc853a2b2233' target=\"_blank\">\n<img alt='Created in deepnote.com' style='display:inline;max-height:16px;margin:0px;margin-right:7.5px;' src='data:image/svg+xml;base64,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' > </img>\nCreated in <span style='font-weight:600;margin-left:4px;'>Deepnote</span></a>",
      "metadata": {
        "created_in_deepnote_cell": true,
        "deepnote_cell_type": "markdown"
      }
    }
  ],
  "nbformat": 4,
  "nbformat_minor": 0,
  "metadata": {
    "deepnote": {},
    "orig_nbformat": 2,
    "deepnote_notebook_id": "0dd8434a6d40430e9977796ea0e395a3",
    "deepnote_persisted_session": {
      "createdAt": "2023-12-19T16:00:45.715Z"
    },
    "deepnote_execution_queue": []
  }
}