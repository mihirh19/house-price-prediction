{
  "cells": [
    {
      "cell_type": "code",
      "source": "import numpy as np\nimport pandas as pd\nimport matplotlib.pyplot as plt\nimport seaborn as sns\nimport re\nfrom sklearn.metrics import r2_score, mean_absolute_error, mean_squared_error\nfrom sklearn.datasets import load_boston",
      "metadata": {
        "source_hash": "3cc0d2e0",
        "execution_start": 1702660803377,
        "execution_millis": 2386,
        "deepnote_to_be_reexecuted": false,
        "cell_id": "3c3c2d152144483a8fa993948705a4f4",
        "deepnote_cell_type": "code"
      },
      "outputs": [],
      "execution_count": 1,
      "block_group": "3c3c2d152144483a8fa993948705a4f4"
    },
    {
      "cell_type": "code",
      "source": "# df = pd.read_csv(\"/work/HousingData.csv\")\nboston_dataset = load_boston()\nprint(boston_dataset.DESCR)",
      "metadata": {
        "source_hash": "5442731",
        "execution_start": 1702660805766,
        "execution_millis": 18,
        "deepnote_to_be_reexecuted": false,
        "cell_id": "af631b24097b4608935e1fdb684c6cd2",
        "deepnote_cell_type": "code"
      },
      "outputs": [
        {
          "name": "stdout",
          "text": ".. _boston_dataset:\n\nBoston house prices dataset\n---------------------------\n\n**Data Set Characteristics:**  \n\n    :Number of Instances: 506 \n\n    :Number of Attributes: 13 numeric/categorical predictive. Median Value (attribute 14) is usually the target.\n\n    :Attribute Information (in order):\n        - CRIM     per capita crime rate by town\n        - ZN       proportion of residential land zoned for lots over 25,000 sq.ft.\n        - INDUS    proportion of non-retail business acres per town\n        - CHAS     Charles River dummy variable (= 1 if tract bounds river; 0 otherwise)\n        - NOX      nitric oxides concentration (parts per 10 million)\n        - RM       average number of rooms per dwelling\n        - AGE      proportion of owner-occupied units built prior to 1940\n        - DIS      weighted distances to five Boston employment centres\n        - RAD      index of accessibility to radial highways\n        - TAX      full-value property-tax rate per $10,000\n        - PTRATIO  pupil-teacher ratio by town\n        - B        1000(Bk - 0.63)^2 where Bk is the proportion of black people by town\n        - LSTAT    % lower status of the population\n        - MEDV     Median value of owner-occupied homes in $1000's\n\n    :Missing Attribute Values: None\n\n    :Creator: Harrison, D. and Rubinfeld, D.L.\n\nThis is a copy of UCI ML housing dataset.\nhttps://archive.ics.uci.edu/ml/machine-learning-databases/housing/\n\n\nThis dataset was taken from the StatLib library which is maintained at Carnegie Mellon University.\n\nThe Boston house-price data of Harrison, D. and Rubinfeld, D.L. 'Hedonic\nprices and the demand for clean air', J. Environ. Economics & Management,\nvol.5, 81-102, 1978.   Used in Belsley, Kuh & Welsch, 'Regression diagnostics\n...', Wiley, 1980.   N.B. Various transformations are used in the table on\npages 244-261 of the latter.\n\nThe Boston house-price data has been used in many machine learning papers that address regression\nproblems.   \n     \n.. topic:: References\n\n   - Belsley, Kuh & Welsch, 'Regression diagnostics: Identifying Influential Data and Sources of Collinearity', Wiley, 1980. 244-261.\n   - Quinlan,R. (1993). Combining Instance-Based and Model-Based Learning. In Proceedings on the Tenth International Conference of Machine Learning, 236-243, University of Massachusetts, Amherst. Morgan Kaufmann.\n\n/shared-libs/python3.9/py/lib/python3.9/site-packages/sklearn/utils/deprecation.py:87: FutureWarning: Function load_boston is deprecated; `load_boston` is deprecated in 1.0 and will be removed in 1.2.\n\n    The Boston housing prices dataset has an ethical problem. You can refer to\n    the documentation of this function for further details.\n\n    The scikit-learn maintainers therefore strongly discourage the use of this\n    dataset unless the purpose of the code is to study and educate about\n    ethical issues in data science and machine learning.\n\n    In this special case, you can fetch the dataset from the original\n    source::\n\n        import pandas as pd\n        import numpy as np\n\n        data_url = \"http://lib.stat.cmu.edu/datasets/boston\"\n        raw_df = pd.read_csv(data_url, sep=\"\\s+\", skiprows=22, header=None)\n        data = np.hstack([raw_df.values[::2, :], raw_df.values[1::2, :2]])\n        target = raw_df.values[1::2, 2]\n\n    Alternative datasets include the California housing dataset (i.e.\n    :func:`~sklearn.datasets.fetch_california_housing`) and the Ames housing\n    dataset. You can load the datasets as follows::\n\n        from sklearn.datasets import fetch_california_housing\n        housing = fetch_california_housing()\n\n    for the California housing dataset and::\n\n        from sklearn.datasets import fetch_openml\n        housing = fetch_openml(name=\"house_prices\", as_frame=True)\n\n    for the Ames housing dataset.\n  warnings.warn(msg, category=FutureWarning)\n",
          "output_type": "stream"
        }
      ],
      "execution_count": 2,
      "block_group": "f18ac98f368140f4ac39a6e14480c1ac"
    },
    {
      "cell_type": "code",
      "source": "df = pd.DataFrame(boston_dataset.data, columns=boston_dataset.feature_names)\ndf['MEDV'] = boston_dataset.target",
      "metadata": {
        "source_hash": "db4e1f1",
        "execution_start": 1702660805877,
        "execution_millis": 9,
        "deepnote_to_be_reexecuted": false,
        "cell_id": "125b3715e7724a529c8a346c2114034a",
        "deepnote_cell_type": "code"
      },
      "outputs": [],
      "execution_count": 3,
      "block_group": "475daf22dffb4015af2642e7011920ab"
    },
    {
      "cell_type": "code",
      "source": "df\n",
      "metadata": {
        "source_hash": "3f898c48",
        "execution_start": 1702660805878,
        "execution_millis": 163,
        "deepnote_to_be_reexecuted": false,
        "cell_id": "b05e72e0ed5d4a7dac4ceb2f08fe27a0",
        "deepnote_cell_type": "code"
      },
      "outputs": [
        {
          "output_type": "execute_result",
          "execution_count": 4,
          "data": {
            "application/vnd.deepnote.dataframe.v3+json": {
              "column_count": 14,
              "row_count": 506,
              "columns": [
                {
                  "name": "CRIM",
                  "dtype": "float64",
                  "stats": {
                    "unique_count": 504,
                    "nan_count": 0,
                    "min": "0.00632",
                    "max": "88.9762",
                    "histogram": [
                      {
                        "bin_start": 0.00632,
                        "bin_end": 8.903308,
                        "count": 439
                      },
                      {
                        "bin_start": 8.903308,
                        "bin_end": 17.800296,
                        "count": 44
                      },
                      {
                        "bin_start": 17.800296,
                        "bin_end": 26.697284,
                        "count": 14
                      },
                      {
                        "bin_start": 26.697284,
                        "bin_end": 35.594272000000004,
                        "count": 1
                      },
                      {
                        "bin_start": 35.594272000000004,
                        "bin_end": 44.491260000000004,
                        "count": 3
                      },
                      {
                        "bin_start": 44.491260000000004,
                        "bin_end": 53.388248000000004,
                        "count": 2
                      },
                      {
                        "bin_start": 53.388248000000004,
                        "bin_end": 62.285236000000005,
                        "count": 0
                      },
                      {
                        "bin_start": 62.285236000000005,
                        "bin_end": 71.182224,
                        "count": 1
                      },
                      {
                        "bin_start": 71.182224,
                        "bin_end": 80.079212,
                        "count": 1
                      },
                      {
                        "bin_start": 80.079212,
                        "bin_end": 88.9762,
                        "count": 1
                      }
                    ]
                  }
                },
                {
                  "name": "ZN",
                  "dtype": "float64",
                  "stats": {
                    "unique_count": 26,
                    "nan_count": 0,
                    "min": "0.0",
                    "max": "100.0",
                    "histogram": [
                      {
                        "bin_start": 0,
                        "bin_end": 10,
                        "count": 372
                      },
                      {
                        "bin_start": 10,
                        "bin_end": 20,
                        "count": 12
                      },
                      {
                        "bin_start": 20,
                        "bin_end": 30,
                        "count": 48
                      },
                      {
                        "bin_start": 30,
                        "bin_end": 40,
                        "count": 16
                      },
                      {
                        "bin_start": 40,
                        "bin_end": 50,
                        "count": 13
                      },
                      {
                        "bin_start": 50,
                        "bin_end": 60,
                        "count": 6
                      },
                      {
                        "bin_start": 60,
                        "bin_end": 70,
                        "count": 4
                      },
                      {
                        "bin_start": 70,
                        "bin_end": 80,
                        "count": 6
                      },
                      {
                        "bin_start": 80,
                        "bin_end": 90,
                        "count": 19
                      },
                      {
                        "bin_start": 90,
                        "bin_end": 100,
                        "count": 10
                      }
                    ]
                  }
                },
                {
                  "name": "INDUS",
                  "dtype": "float64",
                  "stats": {
                    "unique_count": 76,
                    "nan_count": 0,
                    "min": "0.46",
                    "max": "27.74",
                    "histogram": [
                      {
                        "bin_start": 0.46,
                        "bin_end": 3.1879999999999997,
                        "count": 56
                      },
                      {
                        "bin_start": 3.1879999999999997,
                        "bin_end": 5.9159999999999995,
                        "count": 95
                      },
                      {
                        "bin_start": 5.9159999999999995,
                        "bin_end": 8.644,
                        "count": 99
                      },
                      {
                        "bin_start": 8.644,
                        "bin_end": 11.372,
                        "count": 44
                      },
                      {
                        "bin_start": 11.372,
                        "bin_end": 14.1,
                        "count": 20
                      },
                      {
                        "bin_start": 14.1,
                        "bin_end": 16.828,
                        "count": 3
                      },
                      {
                        "bin_start": 16.828,
                        "bin_end": 19.555999999999997,
                        "count": 132
                      },
                      {
                        "bin_start": 19.555999999999997,
                        "bin_end": 22.284,
                        "count": 45
                      },
                      {
                        "bin_start": 22.284,
                        "bin_end": 25.012,
                        "count": 0
                      },
                      {
                        "bin_start": 25.012,
                        "bin_end": 27.74,
                        "count": 12
                      }
                    ]
                  }
                },
                {
                  "name": "CHAS",
                  "dtype": "float64",
                  "stats": {
                    "unique_count": 2,
                    "nan_count": 0,
                    "min": "0.0",
                    "max": "1.0",
                    "histogram": [
                      {
                        "bin_start": 0,
                        "bin_end": 0.1,
                        "count": 471
                      },
                      {
                        "bin_start": 0.1,
                        "bin_end": 0.2,
                        "count": 0
                      },
                      {
                        "bin_start": 0.2,
                        "bin_end": 0.30000000000000004,
                        "count": 0
                      },
                      {
                        "bin_start": 0.30000000000000004,
                        "bin_end": 0.4,
                        "count": 0
                      },
                      {
                        "bin_start": 0.4,
                        "bin_end": 0.5,
                        "count": 0
                      },
                      {
                        "bin_start": 0.5,
                        "bin_end": 0.6000000000000001,
                        "count": 0
                      },
                      {
                        "bin_start": 0.6000000000000001,
                        "bin_end": 0.7000000000000001,
                        "count": 0
                      },
                      {
                        "bin_start": 0.7000000000000001,
                        "bin_end": 0.8,
                        "count": 0
                      },
                      {
                        "bin_start": 0.8,
                        "bin_end": 0.9,
                        "count": 0
                      },
                      {
                        "bin_start": 0.9,
                        "bin_end": 1,
                        "count": 35
                      }
                    ]
                  }
                },
                {
                  "name": "NOX",
                  "dtype": "float64",
                  "stats": {
                    "unique_count": 81,
                    "nan_count": 0,
                    "min": "0.385",
                    "max": "0.871",
                    "histogram": [
                      {
                        "bin_start": 0.385,
                        "bin_end": 0.4336,
                        "count": 75
                      },
                      {
                        "bin_start": 0.4336,
                        "bin_end": 0.4822,
                        "count": 80
                      },
                      {
                        "bin_start": 0.4822,
                        "bin_end": 0.5307999999999999,
                        "count": 89
                      },
                      {
                        "bin_start": 0.5307999999999999,
                        "bin_end": 0.5794,
                        "count": 60
                      },
                      {
                        "bin_start": 0.5794,
                        "bin_end": 0.628,
                        "count": 78
                      },
                      {
                        "bin_start": 0.628,
                        "bin_end": 0.6766,
                        "count": 30
                      },
                      {
                        "bin_start": 0.6766,
                        "bin_end": 0.7252000000000001,
                        "count": 57
                      },
                      {
                        "bin_start": 0.7252000000000001,
                        "bin_end": 0.7738,
                        "count": 21
                      },
                      {
                        "bin_start": 0.7738,
                        "bin_end": 0.8224,
                        "count": 0
                      },
                      {
                        "bin_start": 0.8224,
                        "bin_end": 0.871,
                        "count": 16
                      }
                    ]
                  }
                },
                {
                  "name": "RM",
                  "dtype": "float64",
                  "stats": {
                    "unique_count": 446,
                    "nan_count": 0,
                    "min": "3.561",
                    "max": "8.78",
                    "histogram": [
                      {
                        "bin_start": 3.561,
                        "bin_end": 4.0828999999999995,
                        "count": 2
                      },
                      {
                        "bin_start": 4.0828999999999995,
                        "bin_end": 4.6048,
                        "count": 4
                      },
                      {
                        "bin_start": 4.6048,
                        "bin_end": 5.1267,
                        "count": 14
                      },
                      {
                        "bin_start": 5.1267,
                        "bin_end": 5.6486,
                        "count": 45
                      },
                      {
                        "bin_start": 5.6486,
                        "bin_end": 6.1705,
                        "count": 177
                      },
                      {
                        "bin_start": 6.1705,
                        "bin_end": 6.692399999999999,
                        "count": 151
                      },
                      {
                        "bin_start": 6.692399999999999,
                        "bin_end": 7.2143,
                        "count": 69
                      },
                      {
                        "bin_start": 7.2143,
                        "bin_end": 7.736199999999999,
                        "count": 22
                      },
                      {
                        "bin_start": 7.736199999999999,
                        "bin_end": 8.258099999999999,
                        "count": 13
                      },
                      {
                        "bin_start": 8.258099999999999,
                        "bin_end": 8.78,
                        "count": 9
                      }
                    ]
                  }
                },
                {
                  "name": "AGE",
                  "dtype": "float64",
                  "stats": {
                    "unique_count": 356,
                    "nan_count": 0,
                    "min": "2.9",
                    "max": "100.0",
                    "histogram": [
                      {
                        "bin_start": 2.9,
                        "bin_end": 12.61,
                        "count": 14
                      },
                      {
                        "bin_start": 12.61,
                        "bin_end": 22.319999999999997,
                        "count": 31
                      },
                      {
                        "bin_start": 22.319999999999997,
                        "bin_end": 32.029999999999994,
                        "count": 29
                      },
                      {
                        "bin_start": 32.029999999999994,
                        "bin_end": 41.739999999999995,
                        "count": 42
                      },
                      {
                        "bin_start": 41.739999999999995,
                        "bin_end": 51.449999999999996,
                        "count": 32
                      },
                      {
                        "bin_start": 51.449999999999996,
                        "bin_end": 61.15999999999999,
                        "count": 38
                      },
                      {
                        "bin_start": 61.15999999999999,
                        "bin_end": 70.87,
                        "count": 39
                      },
                      {
                        "bin_start": 70.87,
                        "bin_end": 80.58,
                        "count": 42
                      },
                      {
                        "bin_start": 80.58,
                        "bin_end": 90.28999999999999,
                        "count": 71
                      },
                      {
                        "bin_start": 90.28999999999999,
                        "bin_end": 100,
                        "count": 168
                      }
                    ]
                  }
                },
                {
                  "name": "DIS",
                  "dtype": "float64",
                  "stats": {
                    "unique_count": 412,
                    "nan_count": 0,
                    "min": "1.1296",
                    "max": "12.1265",
                    "histogram": [
                      {
                        "bin_start": 1.1296,
                        "bin_end": 2.2292899999999998,
                        "count": 150
                      },
                      {
                        "bin_start": 2.2292899999999998,
                        "bin_end": 3.32898,
                        "count": 111
                      },
                      {
                        "bin_start": 3.32898,
                        "bin_end": 4.42867,
                        "count": 81
                      },
                      {
                        "bin_start": 4.42867,
                        "bin_end": 5.52836,
                        "count": 61
                      },
                      {
                        "bin_start": 5.52836,
                        "bin_end": 6.62805,
                        "count": 46
                      },
                      {
                        "bin_start": 6.62805,
                        "bin_end": 7.727740000000001,
                        "count": 26
                      },
                      {
                        "bin_start": 7.727740000000001,
                        "bin_end": 8.82743,
                        "count": 19
                      },
                      {
                        "bin_start": 8.82743,
                        "bin_end": 9.92712,
                        "count": 7
                      },
                      {
                        "bin_start": 9.92712,
                        "bin_end": 11.026810000000001,
                        "count": 4
                      },
                      {
                        "bin_start": 11.026810000000001,
                        "bin_end": 12.1265,
                        "count": 1
                      }
                    ]
                  }
                },
                {
                  "name": "RAD",
                  "dtype": "float64",
                  "stats": {
                    "unique_count": 9,
                    "nan_count": 0,
                    "min": "1.0",
                    "max": "24.0",
                    "histogram": [
                      {
                        "bin_start": 1,
                        "bin_end": 3.3,
                        "count": 82
                      },
                      {
                        "bin_start": 3.3,
                        "bin_end": 5.6,
                        "count": 225
                      },
                      {
                        "bin_start": 5.6,
                        "bin_end": 7.8999999999999995,
                        "count": 43
                      },
                      {
                        "bin_start": 7.8999999999999995,
                        "bin_end": 10.2,
                        "count": 24
                      },
                      {
                        "bin_start": 10.2,
                        "bin_end": 12.5,
                        "count": 0
                      },
                      {
                        "bin_start": 12.5,
                        "bin_end": 14.799999999999999,
                        "count": 0
                      },
                      {
                        "bin_start": 14.799999999999999,
                        "bin_end": 17.099999999999998,
                        "count": 0
                      },
                      {
                        "bin_start": 17.099999999999998,
                        "bin_end": 19.4,
                        "count": 0
                      },
                      {
                        "bin_start": 19.4,
                        "bin_end": 21.7,
                        "count": 0
                      },
                      {
                        "bin_start": 21.7,
                        "bin_end": 24,
                        "count": 132
                      }
                    ]
                  }
                },
                {
                  "name": "TAX",
                  "dtype": "float64",
                  "stats": {
                    "unique_count": 66,
                    "nan_count": 0,
                    "min": "187.0",
                    "max": "711.0",
                    "histogram": [
                      {
                        "bin_start": 187,
                        "bin_end": 239.4,
                        "count": 54
                      },
                      {
                        "bin_start": 239.4,
                        "bin_end": 291.8,
                        "count": 100
                      },
                      {
                        "bin_start": 291.8,
                        "bin_end": 344.2,
                        "count": 108
                      },
                      {
                        "bin_start": 344.2,
                        "bin_end": 396.6,
                        "count": 32
                      },
                      {
                        "bin_start": 396.6,
                        "bin_end": 449,
                        "count": 74
                      },
                      {
                        "bin_start": 449,
                        "bin_end": 501.4,
                        "count": 1
                      },
                      {
                        "bin_start": 501.4,
                        "bin_end": 553.8,
                        "count": 0
                      },
                      {
                        "bin_start": 553.8,
                        "bin_end": 606.2,
                        "count": 0
                      },
                      {
                        "bin_start": 606.2,
                        "bin_end": 658.5999999999999,
                        "count": 0
                      },
                      {
                        "bin_start": 658.5999999999999,
                        "bin_end": 711,
                        "count": 137
                      }
                    ]
                  }
                },
                {
                  "name": "PTRATIO",
                  "dtype": "float64",
                  "stats": {
                    "unique_count": 46,
                    "nan_count": 0,
                    "min": "12.6",
                    "max": "22.0",
                    "histogram": [
                      {
                        "bin_start": 12.6,
                        "bin_end": 13.54,
                        "count": 15
                      },
                      {
                        "bin_start": 13.54,
                        "bin_end": 14.48,
                        "count": 2
                      },
                      {
                        "bin_start": 14.48,
                        "bin_end": 15.42,
                        "count": 58
                      },
                      {
                        "bin_start": 15.42,
                        "bin_end": 16.36,
                        "count": 15
                      },
                      {
                        "bin_start": 16.36,
                        "bin_end": 17.3,
                        "count": 35
                      },
                      {
                        "bin_start": 17.3,
                        "bin_end": 18.240000000000002,
                        "count": 69
                      },
                      {
                        "bin_start": 18.240000000000002,
                        "bin_end": 19.18,
                        "count": 76
                      },
                      {
                        "bin_start": 19.18,
                        "bin_end": 20.12,
                        "count": 40
                      },
                      {
                        "bin_start": 20.12,
                        "bin_end": 21.060000000000002,
                        "count": 178
                      },
                      {
                        "bin_start": 21.060000000000002,
                        "bin_end": 22,
                        "count": 18
                      }
                    ]
                  }
                },
                {
                  "name": "B",
                  "dtype": "float64",
                  "stats": {
                    "unique_count": 357,
                    "nan_count": 0,
                    "min": "0.32",
                    "max": "396.9",
                    "histogram": [
                      {
                        "bin_start": 0.32,
                        "bin_end": 39.978,
                        "count": 18
                      },
                      {
                        "bin_start": 39.978,
                        "bin_end": 79.636,
                        "count": 6
                      },
                      {
                        "bin_start": 79.636,
                        "bin_end": 119.294,
                        "count": 10
                      },
                      {
                        "bin_start": 119.294,
                        "bin_end": 158.952,
                        "count": 2
                      },
                      {
                        "bin_start": 158.952,
                        "bin_end": 198.61,
                        "count": 3
                      },
                      {
                        "bin_start": 198.61,
                        "bin_end": 238.268,
                        "count": 3
                      },
                      {
                        "bin_start": 238.268,
                        "bin_end": 277.926,
                        "count": 7
                      },
                      {
                        "bin_start": 277.926,
                        "bin_end": 317.584,
                        "count": 11
                      },
                      {
                        "bin_start": 317.584,
                        "bin_end": 357.242,
                        "count": 33
                      },
                      {
                        "bin_start": 357.242,
                        "bin_end": 396.9,
                        "count": 413
                      }
                    ]
                  }
                },
                {
                  "name": "LSTAT",
                  "dtype": "float64",
                  "stats": {
                    "unique_count": 455,
                    "nan_count": 0,
                    "min": "1.73",
                    "max": "37.97",
                    "histogram": [
                      {
                        "bin_start": 1.73,
                        "bin_end": 5.354,
                        "count": 75
                      },
                      {
                        "bin_start": 5.354,
                        "bin_end": 8.978,
                        "count": 108
                      },
                      {
                        "bin_start": 8.978,
                        "bin_end": 12.602,
                        "count": 99
                      },
                      {
                        "bin_start": 12.602,
                        "bin_end": 16.226,
                        "count": 84
                      },
                      {
                        "bin_start": 16.226,
                        "bin_end": 19.85,
                        "count": 64
                      },
                      {
                        "bin_start": 19.85,
                        "bin_end": 23.474,
                        "count": 30
                      },
                      {
                        "bin_start": 23.474,
                        "bin_end": 27.098000000000003,
                        "count": 21
                      },
                      {
                        "bin_start": 27.098000000000003,
                        "bin_end": 30.722,
                        "count": 16
                      },
                      {
                        "bin_start": 30.722,
                        "bin_end": 34.346,
                        "count": 4
                      },
                      {
                        "bin_start": 34.346,
                        "bin_end": 37.97,
                        "count": 5
                      }
                    ]
                  }
                },
                {
                  "name": "MEDV",
                  "dtype": "float64",
                  "stats": {
                    "unique_count": 229,
                    "nan_count": 0,
                    "min": "5.0",
                    "max": "50.0",
                    "histogram": [
                      {
                        "bin_start": 5,
                        "bin_end": 9.5,
                        "count": 21
                      },
                      {
                        "bin_start": 9.5,
                        "bin_end": 14,
                        "count": 55
                      },
                      {
                        "bin_start": 14,
                        "bin_end": 18.5,
                        "count": 82
                      },
                      {
                        "bin_start": 18.5,
                        "bin_end": 23,
                        "count": 154
                      },
                      {
                        "bin_start": 23,
                        "bin_end": 27.5,
                        "count": 84
                      },
                      {
                        "bin_start": 27.5,
                        "bin_end": 32,
                        "count": 41
                      },
                      {
                        "bin_start": 32,
                        "bin_end": 36.5,
                        "count": 30
                      },
                      {
                        "bin_start": 36.5,
                        "bin_end": 41,
                        "count": 8
                      },
                      {
                        "bin_start": 41,
                        "bin_end": 45.5,
                        "count": 10
                      },
                      {
                        "bin_start": 45.5,
                        "bin_end": 50,
                        "count": 21
                      }
                    ]
                  }
                },
                {
                  "name": "_deepnote_index_column",
                  "dtype": "int64"
                }
              ],
              "rows": [
                {
                  "CRIM": 0.00632,
                  "ZN": 18,
                  "INDUS": 2.31,
                  "CHAS": 0,
                  "NOX": 0.538,
                  "RM": 6.575,
                  "AGE": 65.2,
                  "DIS": 4.09,
                  "RAD": 1,
                  "TAX": 296,
                  "PTRATIO": 15.3,
                  "B": 396.9,
                  "LSTAT": 4.98,
                  "MEDV": 24,
                  "_deepnote_index_column": 0
                },
                {
                  "CRIM": 0.02731,
                  "ZN": 0,
                  "INDUS": 7.07,
                  "CHAS": 0,
                  "NOX": 0.469,
                  "RM": 6.421,
                  "AGE": 78.9,
                  "DIS": 4.9671,
                  "RAD": 2,
                  "TAX": 242,
                  "PTRATIO": 17.8,
                  "B": 396.9,
                  "LSTAT": 9.14,
                  "MEDV": 21.6,
                  "_deepnote_index_column": 1
                },
                {
                  "CRIM": 0.02729,
                  "ZN": 0,
                  "INDUS": 7.07,
                  "CHAS": 0,
                  "NOX": 0.469,
                  "RM": 7.185,
                  "AGE": 61.1,
                  "DIS": 4.9671,
                  "RAD": 2,
                  "TAX": 242,
                  "PTRATIO": 17.8,
                  "B": 392.83,
                  "LSTAT": 4.03,
                  "MEDV": 34.7,
                  "_deepnote_index_column": 2
                },
                {
                  "CRIM": 0.03237,
                  "ZN": 0,
                  "INDUS": 2.18,
                  "CHAS": 0,
                  "NOX": 0.458,
                  "RM": 6.998,
                  "AGE": 45.8,
                  "DIS": 6.0622,
                  "RAD": 3,
                  "TAX": 222,
                  "PTRATIO": 18.7,
                  "B": 394.63,
                  "LSTAT": 2.94,
                  "MEDV": 33.4,
                  "_deepnote_index_column": 3
                },
                {
                  "CRIM": 0.06905,
                  "ZN": 0,
                  "INDUS": 2.18,
                  "CHAS": 0,
                  "NOX": 0.458,
                  "RM": 7.147,
                  "AGE": 54.2,
                  "DIS": 6.0622,
                  "RAD": 3,
                  "TAX": 222,
                  "PTRATIO": 18.7,
                  "B": 396.9,
                  "LSTAT": 5.33,
                  "MEDV": 36.2,
                  "_deepnote_index_column": 4
                },
                {
                  "CRIM": 0.02985,
                  "ZN": 0,
                  "INDUS": 2.18,
                  "CHAS": 0,
                  "NOX": 0.458,
                  "RM": 6.43,
                  "AGE": 58.7,
                  "DIS": 6.0622,
                  "RAD": 3,
                  "TAX": 222,
                  "PTRATIO": 18.7,
                  "B": 394.12,
                  "LSTAT": 5.21,
                  "MEDV": 28.7,
                  "_deepnote_index_column": 5
                },
                {
                  "CRIM": 0.08829,
                  "ZN": 12.5,
                  "INDUS": 7.87,
                  "CHAS": 0,
                  "NOX": 0.524,
                  "RM": 6.012,
                  "AGE": 66.6,
                  "DIS": 5.5605,
                  "RAD": 5,
                  "TAX": 311,
                  "PTRATIO": 15.2,
                  "B": 395.6,
                  "LSTAT": 12.43,
                  "MEDV": 22.9,
                  "_deepnote_index_column": 6
                },
                {
                  "CRIM": 0.14455,
                  "ZN": 12.5,
                  "INDUS": 7.87,
                  "CHAS": 0,
                  "NOX": 0.524,
                  "RM": 6.172,
                  "AGE": 96.1,
                  "DIS": 5.9505,
                  "RAD": 5,
                  "TAX": 311,
                  "PTRATIO": 15.2,
                  "B": 396.9,
                  "LSTAT": 19.15,
                  "MEDV": 27.1,
                  "_deepnote_index_column": 7
                },
                {
                  "CRIM": 0.21124,
                  "ZN": 12.5,
                  "INDUS": 7.87,
                  "CHAS": 0,
                  "NOX": 0.524,
                  "RM": 5.631,
                  "AGE": 100,
                  "DIS": 6.0821,
                  "RAD": 5,
                  "TAX": 311,
                  "PTRATIO": 15.2,
                  "B": 386.63,
                  "LSTAT": 29.93,
                  "MEDV": 16.5,
                  "_deepnote_index_column": 8
                },
                {
                  "CRIM": 0.17004,
                  "ZN": 12.5,
                  "INDUS": 7.87,
                  "CHAS": 0,
                  "NOX": 0.524,
                  "RM": 6.004,
                  "AGE": 85.9,
                  "DIS": 6.5921,
                  "RAD": 5,
                  "TAX": 311,
                  "PTRATIO": 15.2,
                  "B": 386.71,
                  "LSTAT": 17.1,
                  "MEDV": 18.9,
                  "_deepnote_index_column": 9
                }
              ]
            },
            "text/plain": "        CRIM    ZN  INDUS  CHAS    NOX     RM   AGE     DIS  RAD    TAX  \\\n0    0.00632  18.0   2.31   0.0  0.538  6.575  65.2  4.0900  1.0  296.0   \n1    0.02731   0.0   7.07   0.0  0.469  6.421  78.9  4.9671  2.0  242.0   \n2    0.02729   0.0   7.07   0.0  0.469  7.185  61.1  4.9671  2.0  242.0   \n3    0.03237   0.0   2.18   0.0  0.458  6.998  45.8  6.0622  3.0  222.0   \n4    0.06905   0.0   2.18   0.0  0.458  7.147  54.2  6.0622  3.0  222.0   \n..       ...   ...    ...   ...    ...    ...   ...     ...  ...    ...   \n501  0.06263   0.0  11.93   0.0  0.573  6.593  69.1  2.4786  1.0  273.0   \n502  0.04527   0.0  11.93   0.0  0.573  6.120  76.7  2.2875  1.0  273.0   \n503  0.06076   0.0  11.93   0.0  0.573  6.976  91.0  2.1675  1.0  273.0   \n504  0.10959   0.0  11.93   0.0  0.573  6.794  89.3  2.3889  1.0  273.0   \n505  0.04741   0.0  11.93   0.0  0.573  6.030  80.8  2.5050  1.0  273.0   \n\n     PTRATIO       B  LSTAT  MEDV  \n0       15.3  396.90   4.98  24.0  \n1       17.8  396.90   9.14  21.6  \n2       17.8  392.83   4.03  34.7  \n3       18.7  394.63   2.94  33.4  \n4       18.7  396.90   5.33  36.2  \n..       ...     ...    ...   ...  \n501     21.0  391.99   9.67  22.4  \n502     21.0  396.90   9.08  20.6  \n503     21.0  396.90   5.64  23.9  \n504     21.0  393.45   6.48  22.0  \n505     21.0  396.90   7.88  11.9  \n\n[506 rows x 14 columns]",
            "text/html": "<div>\n<style scoped>\n    .dataframe tbody tr th:only-of-type {\n        vertical-align: middle;\n    }\n\n    .dataframe tbody tr th {\n        vertical-align: top;\n    }\n\n    .dataframe thead th {\n        text-align: right;\n    }\n</style>\n<table border=\"1\" class=\"dataframe\">\n  <thead>\n    <tr style=\"text-align: right;\">\n      <th></th>\n      <th>CRIM</th>\n      <th>ZN</th>\n      <th>INDUS</th>\n      <th>CHAS</th>\n      <th>NOX</th>\n      <th>RM</th>\n      <th>AGE</th>\n      <th>DIS</th>\n      <th>RAD</th>\n      <th>TAX</th>\n      <th>PTRATIO</th>\n      <th>B</th>\n      <th>LSTAT</th>\n      <th>MEDV</th>\n    </tr>\n  </thead>\n  <tbody>\n    <tr>\n      <th>0</th>\n      <td>0.00632</td>\n      <td>18.0</td>\n      <td>2.31</td>\n      <td>0.0</td>\n      <td>0.538</td>\n      <td>6.575</td>\n      <td>65.2</td>\n      <td>4.0900</td>\n      <td>1.0</td>\n      <td>296.0</td>\n      <td>15.3</td>\n      <td>396.90</td>\n      <td>4.98</td>\n      <td>24.0</td>\n    </tr>\n    <tr>\n      <th>1</th>\n      <td>0.02731</td>\n      <td>0.0</td>\n      <td>7.07</td>\n      <td>0.0</td>\n      <td>0.469</td>\n      <td>6.421</td>\n      <td>78.9</td>\n      <td>4.9671</td>\n      <td>2.0</td>\n      <td>242.0</td>\n      <td>17.8</td>\n      <td>396.90</td>\n      <td>9.14</td>\n      <td>21.6</td>\n    </tr>\n    <tr>\n      <th>2</th>\n      <td>0.02729</td>\n      <td>0.0</td>\n      <td>7.07</td>\n      <td>0.0</td>\n      <td>0.469</td>\n      <td>7.185</td>\n      <td>61.1</td>\n      <td>4.9671</td>\n      <td>2.0</td>\n      <td>242.0</td>\n      <td>17.8</td>\n      <td>392.83</td>\n      <td>4.03</td>\n      <td>34.7</td>\n    </tr>\n    <tr>\n      <th>3</th>\n      <td>0.03237</td>\n      <td>0.0</td>\n      <td>2.18</td>\n      <td>0.0</td>\n      <td>0.458</td>\n      <td>6.998</td>\n      <td>45.8</td>\n      <td>6.0622</td>\n      <td>3.0</td>\n      <td>222.0</td>\n      <td>18.7</td>\n      <td>394.63</td>\n      <td>2.94</td>\n      <td>33.4</td>\n    </tr>\n    <tr>\n      <th>4</th>\n      <td>0.06905</td>\n      <td>0.0</td>\n      <td>2.18</td>\n      <td>0.0</td>\n      <td>0.458</td>\n      <td>7.147</td>\n      <td>54.2</td>\n      <td>6.0622</td>\n      <td>3.0</td>\n      <td>222.0</td>\n      <td>18.7</td>\n      <td>396.90</td>\n      <td>5.33</td>\n      <td>36.2</td>\n    </tr>\n    <tr>\n      <th>...</th>\n      <td>...</td>\n      <td>...</td>\n      <td>...</td>\n      <td>...</td>\n      <td>...</td>\n      <td>...</td>\n      <td>...</td>\n      <td>...</td>\n      <td>...</td>\n      <td>...</td>\n      <td>...</td>\n      <td>...</td>\n      <td>...</td>\n      <td>...</td>\n    </tr>\n    <tr>\n      <th>501</th>\n      <td>0.06263</td>\n      <td>0.0</td>\n      <td>11.93</td>\n      <td>0.0</td>\n      <td>0.573</td>\n      <td>6.593</td>\n      <td>69.1</td>\n      <td>2.4786</td>\n      <td>1.0</td>\n      <td>273.0</td>\n      <td>21.0</td>\n      <td>391.99</td>\n      <td>9.67</td>\n      <td>22.4</td>\n    </tr>\n    <tr>\n      <th>502</th>\n      <td>0.04527</td>\n      <td>0.0</td>\n      <td>11.93</td>\n      <td>0.0</td>\n      <td>0.573</td>\n      <td>6.120</td>\n      <td>76.7</td>\n      <td>2.2875</td>\n      <td>1.0</td>\n      <td>273.0</td>\n      <td>21.0</td>\n      <td>396.90</td>\n      <td>9.08</td>\n      <td>20.6</td>\n    </tr>\n    <tr>\n      <th>503</th>\n      <td>0.06076</td>\n      <td>0.0</td>\n      <td>11.93</td>\n      <td>0.0</td>\n      <td>0.573</td>\n      <td>6.976</td>\n      <td>91.0</td>\n      <td>2.1675</td>\n      <td>1.0</td>\n      <td>273.0</td>\n      <td>21.0</td>\n      <td>396.90</td>\n      <td>5.64</td>\n      <td>23.9</td>\n    </tr>\n    <tr>\n      <th>504</th>\n      <td>0.10959</td>\n      <td>0.0</td>\n      <td>11.93</td>\n      <td>0.0</td>\n      <td>0.573</td>\n      <td>6.794</td>\n      <td>89.3</td>\n      <td>2.3889</td>\n      <td>1.0</td>\n      <td>273.0</td>\n      <td>21.0</td>\n      <td>393.45</td>\n      <td>6.48</td>\n      <td>22.0</td>\n    </tr>\n    <tr>\n      <th>505</th>\n      <td>0.04741</td>\n      <td>0.0</td>\n      <td>11.93</td>\n      <td>0.0</td>\n      <td>0.573</td>\n      <td>6.030</td>\n      <td>80.8</td>\n      <td>2.5050</td>\n      <td>1.0</td>\n      <td>273.0</td>\n      <td>21.0</td>\n      <td>396.90</td>\n      <td>7.88</td>\n      <td>11.9</td>\n    </tr>\n  </tbody>\n</table>\n<p>506 rows × 14 columns</p>\n</div>"
          },
          "metadata": {}
        }
      ],
      "execution_count": 4,
      "block_group": "0a9861f65c2d420e83bb9da830f94660"
    },
    {
      "cell_type": "code",
      "source": "df.shape",
      "metadata": {
        "source_hash": "14f60b8f",
        "execution_start": 1702660806044,
        "execution_millis": 15,
        "deepnote_to_be_reexecuted": false,
        "cell_id": "bb1187de4198437f8c80f362d1434e4f",
        "deepnote_cell_type": "code"
      },
      "outputs": [
        {
          "output_type": "execute_result",
          "execution_count": 5,
          "data": {
            "text/plain": "(506, 14)"
          },
          "metadata": {}
        }
      ],
      "execution_count": 5,
      "block_group": "97fd9305ee4848558e464e690fe7ff7b"
    },
    {
      "cell_type": "code",
      "source": "df.dtypes",
      "metadata": {
        "source_hash": "52430027",
        "execution_start": 1702660806069,
        "execution_millis": 13,
        "deepnote_to_be_reexecuted": false,
        "cell_id": "0e984cce72a04d40af155ac486d70406",
        "deepnote_cell_type": "code"
      },
      "outputs": [
        {
          "output_type": "execute_result",
          "execution_count": 6,
          "data": {
            "text/plain": "CRIM       float64\nZN         float64\nINDUS      float64\nCHAS       float64\nNOX        float64\nRM         float64\nAGE        float64\nDIS        float64\nRAD        float64\nTAX        float64\nPTRATIO    float64\nB          float64\nLSTAT      float64\nMEDV       float64\ndtype: object"
          },
          "metadata": {}
        }
      ],
      "execution_count": 6,
      "block_group": "4a12ad305d224dbc824d1d21c701aed1"
    },
    {
      "cell_type": "code",
      "source": "df.columns.unique()",
      "metadata": {
        "source_hash": "f2d84b5a",
        "execution_start": 1702660806081,
        "execution_millis": 50,
        "deepnote_to_be_reexecuted": false,
        "cell_id": "b7a36d8707f64f8eadc2ae875fc522da",
        "deepnote_cell_type": "code"
      },
      "outputs": [
        {
          "output_type": "execute_result",
          "execution_count": 7,
          "data": {
            "text/plain": "Index(['CRIM', 'ZN', 'INDUS', 'CHAS', 'NOX', 'RM', 'AGE', 'DIS', 'RAD', 'TAX',\n       'PTRATIO', 'B', 'LSTAT', 'MEDV'],\n      dtype='object')"
          },
          "metadata": {}
        }
      ],
      "execution_count": 7,
      "block_group": "27eca1bfc8694c73b2cbcad6fd57a79f"
    },
    {
      "cell_type": "code",
      "source": "df.nunique()",
      "metadata": {
        "source_hash": "ae6b491",
        "execution_start": 1702660806139,
        "execution_millis": 12,
        "deepnote_to_be_reexecuted": false,
        "cell_id": "f3599e4cc7994c0292d430e0b81c93c3",
        "deepnote_cell_type": "code"
      },
      "outputs": [
        {
          "output_type": "execute_result",
          "execution_count": 8,
          "data": {
            "text/plain": "CRIM       504\nZN          26\nINDUS       76\nCHAS         2\nNOX         81\nRM         446\nAGE        356\nDIS        412\nRAD          9\nTAX         66\nPTRATIO     46\nB          357\nLSTAT      455\nMEDV       229\ndtype: int64"
          },
          "metadata": {}
        }
      ],
      "execution_count": 8,
      "block_group": "565154674ac8423fab5a773c7a64d8ff"
    },
    {
      "cell_type": "code",
      "source": "df.isnull().sum()",
      "metadata": {
        "source_hash": "f3dd26da",
        "execution_start": 1702660806197,
        "execution_millis": 8,
        "deepnote_to_be_reexecuted": false,
        "cell_id": "5c9be4234cdd445d94024dbb056d0a20",
        "deepnote_cell_type": "code"
      },
      "outputs": [
        {
          "output_type": "execute_result",
          "execution_count": 9,
          "data": {
            "text/plain": "CRIM       0\nZN         0\nINDUS      0\nCHAS       0\nNOX        0\nRM         0\nAGE        0\nDIS        0\nRAD        0\nTAX        0\nPTRATIO    0\nB          0\nLSTAT      0\nMEDV       0\ndtype: int64"
          },
          "metadata": {}
        }
      ],
      "execution_count": 9,
      "block_group": "7b4219ba80454fbaabf786662fc5bd93"
    },
    {
      "cell_type": "markdown",
      "source": "<a style='text-decoration:none;line-height:16px;display:flex;color:#5B5B62;padding:10px;justify-content:end;' href='https://deepnote.com?utm_source=created-in-deepnote-cell&projectId=edcc1cc3-205b-4e9d-9a71-dc853a2b2233' target=\"_blank\">\n<img alt='Created in deepnote.com' style='display:inline;max-height:16px;margin:0px;margin-right:7.5px;' src='data:image/svg+xml;base64,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' > </img>\nCreated in <span style='font-weight:600;margin-left:4px;'>Deepnote</span></a>",
      "metadata": {
        "created_in_deepnote_cell": true,
        "deepnote_cell_type": "markdown"
      }
    }
  ],
  "nbformat": 4,
  "nbformat_minor": 0,
  "metadata": {
    "deepnote": {},
    "orig_nbformat": 2,
    "deepnote_notebook_id": "ac99246379ec460698f8b79742b607e4",
    "deepnote_execution_queue": []
  }
}